{
 "cells": [
  {
   "cell_type": "markdown",
   "id": "seven-siemens",
   "metadata": {},
   "source": [
    "## Download Mnist Data"
   ]
  },
  {
   "cell_type": "code",
   "execution_count": null,
   "id": "anticipated-military",
   "metadata": {},
   "outputs": [],
   "source": [
    "!mkdir dataset\n",
    "!wget https://segmind-data.s3.ap-south-1.amazonaws.com/mnist_data.zip -P dataset\n",
    "!unzip dataset/mnist_data.zip -d dataset/"
   ]
  },
  {
   "cell_type": "markdown",
   "id": "eastern-sound",
   "metadata": {},
   "source": [
    "## Set Segmind project "
   ]
  },
  {
   "cell_type": "code",
   "execution_count": null,
   "id": "blessed-celtic",
   "metadata": {},
   "outputs": [],
   "source": [
    "from segmind import set_project\n",
    "set_project(\"f216694c-4e6f-4956-9df9-2341b3305a46\")"
   ]
  },
  {
   "cell_type": "code",
   "execution_count": null,
   "id": "strong-lesbian",
   "metadata": {},
   "outputs": [],
   "source": [
    "import numpy as np\n",
    "import tensorflow as tf\n",
    "import cv2\n",
    "import matplotlib.pyplot as plt\n",
    "import os\n",
    "from glob import glob\n",
    "import keras\n"
   ]
  },
  {
   "cell_type": "code",
   "execution_count": null,
   "id": "nonprofit-silicon",
   "metadata": {},
   "outputs": [],
   "source": [
    "img_folder_path = 'dataset/mnist_data/'"
   ]
  },
  {
   "cell_type": "markdown",
   "id": "allied-information",
   "metadata": {},
   "source": [
    "## Load Train Data"
   ]
  },
  {
   "cell_type": "code",
   "execution_count": null,
   "id": "brilliant-vanilla",
   "metadata": {},
   "outputs": [],
   "source": [
    "train_X = []\n",
    "train_y = []\n",
    "\n",
    "mode = 'train'\n",
    "classes = os.listdir(os.path.join(img_folder_path, mode))\n",
    "for cl in classes:\n",
    "    files = os.listdir(os.path.join(img_folder_path, mode, cl))\n",
    "    for f in files:\n",
    "        image_path= os.path.join(img_folder_path, mode, cl, f)\n",
    "        img=cv2.imread(image_path,0)\n",
    "        train_X.append(img)\n",
    "        train_y.append(cl)"
   ]
  },
  {
   "cell_type": "code",
   "execution_count": null,
   "id": "electrical-brunei",
   "metadata": {},
   "outputs": [],
   "source": [
    "train_X = np.asarray(train_X)\n",
    "train_y = np.asarray(train_y)"
   ]
  },
  {
   "cell_type": "code",
   "execution_count": null,
   "id": "natural-evidence",
   "metadata": {},
   "outputs": [],
   "source": [
    "print(train_X.shape)\n",
    "print(train_y.shape)"
   ]
  },
  {
   "cell_type": "markdown",
   "id": "secondary-certificate",
   "metadata": {},
   "source": [
    "## Load Test Data"
   ]
  },
  {
   "cell_type": "code",
   "execution_count": null,
   "id": "third-queens",
   "metadata": {},
   "outputs": [],
   "source": [
    "test_X = []\n",
    "test_y = []\n",
    "\n",
    "mode = 'test'\n",
    "classes = os.listdir(os.path.join(img_folder_path, mode))\n",
    "for cl in classes:\n",
    "    files = os.listdir(os.path.join(img_folder_path, mode, cl))\n",
    "    for f in files:\n",
    "        image_path= os.path.join(img_folder_path, mode, cl, f)\n",
    "        img=cv2.imread(image_path,0)\n",
    "        test_X.append(img)\n",
    "        test_y.append(cl)"
   ]
  },
  {
   "cell_type": "code",
   "execution_count": null,
   "id": "subsequent-cooling",
   "metadata": {},
   "outputs": [],
   "source": [
    "test_X = np.asarray(test_X)\n",
    "test_y = np.asarray(test_y)"
   ]
  },
  {
   "cell_type": "code",
   "execution_count": null,
   "id": "royal-newton",
   "metadata": {},
   "outputs": [],
   "source": [
    "print(test_X.shape)\n",
    "print(test_y.shape)"
   ]
  },
  {
   "cell_type": "markdown",
   "id": "green-heritage",
   "metadata": {},
   "source": [
    "# Display Data"
   ]
  },
  {
   "cell_type": "code",
   "execution_count": null,
   "id": "official-brave",
   "metadata": {},
   "outputs": [],
   "source": [
    "from matplotlib import rcParams\n",
    "rcParams.update({'figure.autolayout': True})"
   ]
  },
  {
   "cell_type": "code",
   "execution_count": null,
   "id": "confused-chick",
   "metadata": {
    "scrolled": true
   },
   "outputs": [],
   "source": [
    "r_idx = np.random.randint(len(train_X),size=9)\n",
    "plt.figure(figsize=(5,5))\n",
    "for i,idx in enumerate(r_idx):\n",
    "    plt.subplot(3,3,i+1)\n",
    "    plt.imshow(train_X[idx], cmap=plt.get_cmap('gray'))\n",
    "    plt.xlabel(\"Label : \" + train_y[idx], fontsize=12)\n",
    "plt.show()"
   ]
  },
  {
   "cell_type": "markdown",
   "id": "recovered-dallas",
   "metadata": {},
   "source": [
    "# Pre-process Data"
   ]
  },
  {
   "cell_type": "code",
   "execution_count": null,
   "id": "prepared-liverpool",
   "metadata": {},
   "outputs": [],
   "source": [
    "train_X = train_X.reshape((train_X.shape[0], train_X.shape[1], train_X.shape[2], 1))\n",
    "test_X = test_X.reshape((test_X.shape[0], test_X.shape[1], test_X.shape[2], 1))\n",
    "\n",
    "# convert from integers to floats\n",
    "train_norm_X = train_X.astype('float32')\n",
    "test_norm_X = test_X.astype('float32')\n",
    "# normalize to range 0-1\n",
    "train_norm_X = train_norm_X / 255.0\n",
    "test_norm_X = test_norm_X / 255.0"
   ]
  },
  {
   "cell_type": "code",
   "execution_count": null,
   "id": "scientific-rapid",
   "metadata": {},
   "outputs": [],
   "source": [
    "#set number of categories\n",
    "num_category = 10\n",
    "# convert class vectors to binary class matrices\n",
    "train_y = keras.utils.to_categorical(train_y, num_category)\n",
    "test_y = keras.utils.to_categorical(test_y, num_category)"
   ]
  },
  {
   "cell_type": "code",
   "execution_count": null,
   "id": "blind-dialogue",
   "metadata": {},
   "outputs": [],
   "source": [
    "print(train_y.shape)\n",
    "print(test_y.shape)"
   ]
  },
  {
   "cell_type": "markdown",
   "id": "voluntary-polish",
   "metadata": {},
   "source": [
    "# Save processed Data to directory"
   ]
  },
  {
   "cell_type": "code",
   "execution_count": null,
   "id": "passing-plenty",
   "metadata": {},
   "outputs": [],
   "source": [
    "if not os.path.exists('dataset/processed_data'):\n",
    "    os.mkdir('dataset/processed_data')\n",
    "    \n",
    "np.save('dataset/processed_data/train_X.npy', train_norm_X)\n",
    "np.save('dataset/processed_data/train_y.npy', train_y)\n",
    "np.save('dataset/processed_data/test_X.npy', test_norm_X)\n",
    "np.save('dataset/processed_data/test_y.npy', test_y)"
   ]
  },
  {
   "cell_type": "markdown",
   "id": "ordinary-jurisdiction",
   "metadata": {},
   "source": [
    "# Switch the instance to GPU type"
   ]
  },
  {
   "cell_type": "code",
   "execution_count": null,
   "id": "prescription-affect",
   "metadata": {},
   "outputs": [],
   "source": [
    "from segmind import set_project\n",
    "set_project(\"f216694c-4e6f-4956-9df9-2341b3305a46\")"
   ]
  },
  {
   "cell_type": "code",
   "execution_count": null,
   "id": "wired-converter",
   "metadata": {},
   "outputs": [],
   "source": [
    "from segmind.keras import KerasCallback\n",
    "keras_cb = KerasCallback()"
   ]
  },
  {
   "cell_type": "code",
   "execution_count": null,
   "id": "advisory-finger",
   "metadata": {},
   "outputs": [],
   "source": [
    "import os\n",
    "os.environ['CUDA_VISIBLE_DEVICES'] = '0'"
   ]
  },
  {
   "cell_type": "code",
   "execution_count": null,
   "id": "cultural-briefing",
   "metadata": {},
   "outputs": [],
   "source": [
    "import keras\n",
    "from keras.datasets import mnist\n",
    "from keras.models import Sequential, load_model\n",
    "from keras.layers import Dense, Dropout, Flatten, Conv2D, MaxPooling2D\n",
    "from keras.callbacks import ModelCheckpoint\n",
    "from keras import backend as k\n",
    "import matplotlib.pyplot as plt\n",
    "import numpy as np"
   ]
  },
  {
   "cell_type": "markdown",
   "id": "unsigned-sampling",
   "metadata": {},
   "source": [
    "### Load processed data"
   ]
  },
  {
   "cell_type": "code",
   "execution_count": null,
   "id": "devoted-rainbow",
   "metadata": {},
   "outputs": [],
   "source": [
    "train_X = np.load('dataset/processed_data/train_X.npy')[:,:,:,0:1]\n",
    "train_y = np.load('dataset/processed_data/train_y.npy')\n",
    "test_X = np.load('dataset/processed_data/test_X.npy')[:,:,:,0:1]\n",
    "test_y = np.load('dataset/processed_data/test_y.npy')"
   ]
  },
  {
   "cell_type": "code",
   "execution_count": null,
   "id": "athletic-platform",
   "metadata": {},
   "outputs": [],
   "source": [
    "train_X.shape"
   ]
  },
  {
   "cell_type": "code",
   "execution_count": null,
   "id": "secure-appreciation",
   "metadata": {},
   "outputs": [],
   "source": [
    "train_y.shape"
   ]
  },
  {
   "cell_type": "markdown",
   "id": "chief-variable",
   "metadata": {},
   "source": [
    "### Define model"
   ]
  },
  {
   "cell_type": "code",
   "execution_count": null,
   "id": "australian-section",
   "metadata": {},
   "outputs": [],
   "source": [
    "#input image size 28*28\n",
    "img_rows , img_cols = 28, 28\n",
    "input_shape = (img_rows, img_cols,1)\n",
    "num_category = 10"
   ]
  },
  {
   "cell_type": "code",
   "execution_count": null,
   "id": "unlike-steal",
   "metadata": {},
   "outputs": [],
   "source": [
    "##model building\n",
    "model = Sequential()\n",
    "#convolutional layer with rectified linear unit activation\n",
    "model.add(Conv2D(32, kernel_size=(3, 3),\n",
    "                 activation='relu',\n",
    "                 input_shape=input_shape))\n",
    "#32 convolution filters used each of size 3x3\n",
    "#again\n",
    "model.add(Conv2D(64, (3, 3), activation='relu'))\n",
    "#64 convolution filters used each of size 3x3\n",
    "#choose the best features via pooling\n",
    "model.add(MaxPooling2D(pool_size=(2, 2)))\n",
    "#randomly turn neurons on and off to improve convergence\n",
    "model.add(Dropout(0.25))\n",
    "#flatten since too many dimensions, we only want a classification output\n",
    "model.add(Flatten())\n",
    "#fully connected to get all relevant data\n",
    "model.add(Dense(128, activation='relu'))\n",
    "#one more dropout for convergence' sake :) \n",
    "model.add(Dropout(0.5))\n",
    "#output a softmax to squash the matrix into output probabilities\n",
    "model.add(Dense(num_category, activation='softmax'))"
   ]
  },
  {
   "cell_type": "code",
   "execution_count": null,
   "id": "powerful-duncan",
   "metadata": {},
   "outputs": [],
   "source": [
    "#Adaptive learning rate (adaDelta) is a popular form of gradient descent rivaled only by adam and adagrad\n",
    "#categorical ce since we have multiple classes (10) \n",
    "model.compile(loss=keras.losses.categorical_crossentropy,\n",
    "              optimizer=keras.optimizers.Adadelta(),\n",
    "              metrics=['accuracy'])"
   ]
  },
  {
   "cell_type": "code",
   "execution_count": null,
   "id": "informal-therapist",
   "metadata": {},
   "outputs": [],
   "source": [
    "checkpoint = ModelCheckpoint('models/best_model.h5', monitor='val_accuracy', verbose=1, save_best_only=True, mode='max')\n"
   ]
  },
  {
   "cell_type": "code",
   "execution_count": null,
   "id": "descending-gnome",
   "metadata": {},
   "outputs": [],
   "source": [
    "batch_size = 16\n",
    "num_epoch = 10\n",
    "#model training\n",
    "model.fit(train_X, train_y,\n",
    "          batch_size=batch_size,\n",
    "          epochs=num_epoch,\n",
    "          verbose=1,\n",
    "          validation_data=(test_X, test_y),\n",
    "          callbacks = [keras_cb, checkpoint])"
   ]
  },
  {
   "cell_type": "markdown",
   "id": "alive-artist",
   "metadata": {},
   "source": [
    "### Evaluate Model"
   ]
  },
  {
   "cell_type": "code",
   "execution_count": null,
   "id": "alien-ability",
   "metadata": {},
   "outputs": [],
   "source": [
    "model = load_model('models/best_model.h5')"
   ]
  },
  {
   "cell_type": "code",
   "execution_count": null,
   "id": "paperback-lesson",
   "metadata": {},
   "outputs": [],
   "source": [
    "score = model.evaluate(test_X, test_y, verbose=0)\n",
    "print('Test loss:', score[0])\n",
    "print('Test accuracy:', score[1])"
   ]
  },
  {
   "cell_type": "code",
   "execution_count": null,
   "id": "lesser-relay",
   "metadata": {},
   "outputs": [],
   "source": []
  }
 ],
 "metadata": {
  "kernelspec": {
   "display_name": "Python 3",
   "language": "python",
   "name": "python3"
  },
  "language_info": {
   "codemirror_mode": {
    "name": "ipython",
    "version": 3
   },
   "file_extension": ".py",
   "mimetype": "text/x-python",
   "name": "python",
   "nbconvert_exporter": "python",
   "pygments_lexer": "ipython3",
   "version": "3.6.9"
  }
 },
 "nbformat": 4,
 "nbformat_minor": 5
}
