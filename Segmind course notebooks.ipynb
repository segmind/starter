{
 "cells": [
  {
   "cell_type": "markdown",
   "metadata": {},
   "source": [
    "# Machine Learning and Deep Learning Courses 📕 📗 📘"
   ]
  },
  {
   "cell_type": "markdown",
   "metadata": {},
   "source": [
    "Below are some practical course notebooks on machine learning and deep learning. To get started, simply run the cell of the course you want and the notebooks will be downloaded into your workspace."
   ]
  },
  {
   "cell_type": "markdown",
   "metadata": {},
   "source": [
    "### 1. Hands-on machine learning\n",
    "\n",
    "Machine Learning Notebooks by Aurélien Géron\n",
    "\n",
    "This project aims at teaching you the fundamentals of Machine Learning in python. It contains the example code and solutions to the exercises in the second edition of my O'Reilly book Hands-on Machine Learning with Scikit-Learn, Keras and TensorFlow."
   ]
  },
  {
   "cell_type": "code",
   "execution_count": null,
   "metadata": {},
   "outputs": [],
   "source": [
    "!git clone https://github.com/ageron/handson-ml2"
   ]
  },
  {
   "cell_type": "markdown",
   "metadata": {},
   "source": [
    "### 2. Stanford Machine Learning on Coursera\n",
    "\n",
    "This repository contains python implementations of certain exercises from the course by Andrew Ng.\n",
    "\n",
    "Instructor: Andrew Ng"
   ]
  },
  {
   "cell_type": "code",
   "execution_count": null,
   "metadata": {},
   "outputs": [],
   "source": [
    "!git clone https://github.com/JWarmenhoven/Coursera-Machine-Learning"
   ]
  },
  {
   "cell_type": "markdown",
   "metadata": {},
   "source": [
    "### 3. Stanford Deep Learning Specialization on Coursera\n",
    "\n",
    "Master Deep Learning, and Break into AI\n",
    "\n",
    "Instructor: Andrew Ng"
   ]
  },
  {
   "cell_type": "code",
   "execution_count": null,
   "metadata": {},
   "outputs": [],
   "source": [
    "!git clone https://github.com/Kulbear/deep-learning-coursera"
   ]
  },
  {
   "cell_type": "markdown",
   "metadata": {},
   "source": [
    "### 4. Neural Networks and Deep Learning\n",
    "\n",
    "This special course consists of five courses:\n",
    "\n",
    "Neural Networks and Deep Learning  \n",
    "Improving Deep Neural Networks: Hyperparameter tuning, Regularization and Optimization\n",
    "Structuring Machine Learning Projects\n",
    "Convolutional Neural Networks\n",
    "Sequence Models\n",
    "\n",
    "Instructor: Andrew Ng"
   ]
  },
  {
   "cell_type": "code",
   "execution_count": null,
   "metadata": {},
   "outputs": [],
   "source": [
    "!git clone https://github.com/fanghao6666/neural-networks-and-deep-learning"
   ]
  }
 ],
 "metadata": {
  "kernelspec": {
   "display_name": "Python 3",
   "language": "python",
   "name": "python3"
  },
  "language_info": {
   "codemirror_mode": {
    "name": "ipython",
    "version": 3
   },
   "file_extension": ".py",
   "mimetype": "text/x-python",
   "name": "python",
   "nbconvert_exporter": "python",
   "pygments_lexer": "ipython3",
   "version": "3.7.4"
  }
 },
 "nbformat": 4,
 "nbformat_minor": 2
}
